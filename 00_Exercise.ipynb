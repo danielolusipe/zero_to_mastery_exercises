{
  "nbformat": 4,
  "nbformat_minor": 0,
  "metadata": {
    "colab": {
      "name": "00_Exercise.ipynb",
      "provenance": [],
      "collapsed_sections": [],
      "authorship_tag": "ABX9TyMp2eXu886/418ZbMt0Y1uw",
      "include_colab_link": true
    },
    "kernelspec": {
      "name": "python3",
      "display_name": "Python 3"
    },
    "language_info": {
      "name": "python"
    }
  },
  "cells": [
    {
      "cell_type": "markdown",
      "metadata": {
        "id": "view-in-github",
        "colab_type": "text"
      },
      "source": [
        "<a href=\"https://colab.research.google.com/github/olusipedaniel/zero-to-mastery-exercises/blob/main/00_Exercise.ipynb\" target=\"_parent\"><img src=\"https://colab.research.google.com/assets/colab-badge.svg\" alt=\"Open In Colab\"/></a>"
      ]
    },
    {
      "cell_type": "markdown",
      "source": [
        "🛠 00 TensorFlow Fundamentals Exercises\n",
        "1. Create a vector, scalar, matrix and tensor with values of your choosing using tf.constant().\n",
        "2. Find the shape, rank and size of the tensors you created in 1.\n",
        "3. Create two tensors containing random values between 0 and 1 with shape [5, 300].\n",
        "4. Multiply the two tensors you created in 3 using matrix multiplication.\n",
        "5. Multiply the two tensors you created in 3 using dot product.\n",
        "6. Create a tensor with random values between 0 and 1 with shape [224, 224, 3].\n",
        "7. Find the min and max values of the tensor you created in 6.\n",
        "8. Created a tensor with random values of shape [1, 224, 224, 3] then squeeze it to change the shape to [224, 224, 3].\n",
        "9. Create a tensor with shape [10] using your own choice of values, then find the index which has the maximum value.\n",
        "10. One-hot encode the tensor you created in 9."
      ],
      "metadata": {
        "id": "rUkIhaDNNPrq"
      }
    },
    {
      "cell_type": "markdown",
      "source": [
        "### 1. Create a vector, scalar, matrix and tensor with values of your choosing using tf.constant()."
      ],
      "metadata": {
        "id": "eeLk2ZgeNqI_"
      }
    },
    {
      "cell_type": "code",
      "source": [
        "import tensorflow as tf\n",
        "import numpy as np\n",
        "\n",
        "# Create a Scalar\n",
        "A1 = tf.constant(10)\n",
        "\n",
        "# Create a vector\n",
        "A2 = tf.constant([5, 10])\n",
        "\n",
        "# Create a matrix and find the shape, rank and size.\n",
        "A3 = tf.constant([[1, 4],\n",
        "                  [7, 10]])\n",
        "\n",
        "# Create a tensor and find the shape, rank and size.\n",
        "A4 = tf.constant([[[1, 2],\n",
        "                  [3, 4]],\n",
        "                 [[6, 7],\n",
        "                  [7, 8]],\n",
        "                 [[8, 9],\n",
        "                 [9,10]]])"
      ],
      "metadata": {
        "id": "uFi_YWr0Nx-k"
      },
      "execution_count": 3,
      "outputs": []
    },
    {
      "cell_type": "markdown",
      "source": [
        "### 2. Find the shape, rank and size of the tensors you created in 1."
      ],
      "metadata": {
        "id": "yzVljpuAN03J"
      }
    },
    {
      "cell_type": "code",
      "source": [
        "# Finding the shape, rank and size\n",
        "print(\"The shape of the tensor is:\", A4.shape, \"\\n\")\n",
        "print(\"The rank of the tensor is:\", A4.ndim, \"\\n\") \n",
        "print(\"The size of the tensor is:\", tf.size(A4))"
      ],
      "metadata": {
        "colab": {
          "base_uri": "https://localhost:8080/"
        },
        "id": "nUBtlu1POC7U",
        "outputId": "58502aac-3b4f-445c-d4cd-be42f28855cf"
      },
      "execution_count": 4,
      "outputs": [
        {
          "output_type": "stream",
          "name": "stdout",
          "text": [
            "The shape of the tensor is: (3, 2, 2) \n",
            "\n",
            "The rank of the tensor is: 3 \n",
            "\n",
            "The size of the tensor is: tf.Tensor(12, shape=(), dtype=int32)\n"
          ]
        }
      ]
    },
    {
      "cell_type": "markdown",
      "source": [
        "### 3. Create two tensors containing random values between 0 and 1 with shape [5, 300]."
      ],
      "metadata": {
        "id": "lT660wvkOFyj"
      }
    },
    {
      "cell_type": "code",
      "source": [
        "# Set seed\n",
        "tf.random.set_seed(1)\n",
        "# Setting up the shape of the tensor\n",
        "B1 = tf.random.uniform(shape= [5,300], minval= 0, maxval= 1)\n",
        "B2 = tf.random.uniform(shape= [5,300], minval= 0, maxval= 1)\n",
        "B1, B2"
      ],
      "metadata": {
        "colab": {
          "base_uri": "https://localhost:8080/"
        },
        "id": "fgXQ8u9oOKOF",
        "outputId": "43de98cf-07f9-4b52-b398-6794376ac000"
      },
      "execution_count": 5,
      "outputs": [
        {
          "output_type": "execute_result",
          "data": {
            "text/plain": [
              "(<tf.Tensor: shape=(5, 300), dtype=float32, numpy=\n",
              " array([[0.16513085, 0.9014813 , 0.6309742 , ..., 0.01223373, 0.10674465,\n",
              "         0.7973399 ],\n",
              "        [0.6007875 , 0.00949216, 0.10104156, ..., 0.8316059 , 0.13676643,\n",
              "         0.2744167 ],\n",
              "        [0.10485208, 0.00733125, 0.9611858 , ..., 0.3587792 , 0.41688943,\n",
              "         0.20882547],\n",
              "        [0.44241273, 0.7811512 , 0.9335252 , ..., 0.89712286, 0.8038093 ,\n",
              "         0.5238483 ],\n",
              "        [0.03471053, 0.224473  , 0.5711684 , ..., 0.6693133 , 0.7461662 ,\n",
              "         0.06386542]], dtype=float32)>,\n",
              " <tf.Tensor: shape=(5, 300), dtype=float32, numpy=\n",
              " array([[0.51010704, 0.44353175, 0.4085331 , ..., 0.6993296 , 0.3549732 ,\n",
              "         0.15760994],\n",
              "        [0.04775882, 0.17832983, 0.8899392 , ..., 0.6746143 , 0.40816212,\n",
              "         0.80723894],\n",
              "        [0.63969266, 0.67977285, 0.19325793, ..., 0.51353157, 0.42205584,\n",
              "         0.3196032 ],\n",
              "        [0.40856254, 0.8768741 , 0.59874177, ..., 0.4151665 , 0.55399   ,\n",
              "         0.92848015],\n",
              "        [0.71899056, 0.45436585, 0.7723112 , ..., 0.7167101 , 0.5629829 ,\n",
              "         0.5602329 ]], dtype=float32)>)"
            ]
          },
          "metadata": {},
          "execution_count": 5
        }
      ]
    },
    {
      "cell_type": "markdown",
      "source": [
        "### 4. Multiply the two tensors you created in 3 using matrix multiplication."
      ],
      "metadata": {
        "id": "8nUImTvcOPWr"
      }
    },
    {
      "cell_type": "code",
      "source": [
        "# The two tensors created can't be matrix multiplied because the inner dimension are not the same so there is need to transpose one of the tensors\n",
        "B1_transpose = tf.transpose(B1)\n",
        "B2_transpose = tf.transpose(B2)\n",
        "B1_transpose, B2_transpose"
      ],
      "metadata": {
        "colab": {
          "base_uri": "https://localhost:8080/"
        },
        "id": "5MCWOflNOURm",
        "outputId": "b5c08a6a-6848-40e2-cc37-9d6587514a08"
      },
      "execution_count": 6,
      "outputs": [
        {
          "output_type": "execute_result",
          "data": {
            "text/plain": [
              "(<tf.Tensor: shape=(300, 5), dtype=float32, numpy=\n",
              " array([[0.16513085, 0.6007875 , 0.10485208, 0.44241273, 0.03471053],\n",
              "        [0.9014813 , 0.00949216, 0.00733125, 0.7811512 , 0.224473  ],\n",
              "        [0.6309742 , 0.10104156, 0.9611858 , 0.9335252 , 0.5711684 ],\n",
              "        ...,\n",
              "        [0.01223373, 0.8316059 , 0.3587792 , 0.89712286, 0.6693133 ],\n",
              "        [0.10674465, 0.13676643, 0.41688943, 0.8038093 , 0.7461662 ],\n",
              "        [0.7973399 , 0.2744167 , 0.20882547, 0.5238483 , 0.06386542]],\n",
              "       dtype=float32)>, <tf.Tensor: shape=(300, 5), dtype=float32, numpy=\n",
              " array([[0.51010704, 0.04775882, 0.63969266, 0.40856254, 0.71899056],\n",
              "        [0.44353175, 0.17832983, 0.67977285, 0.8768741 , 0.45436585],\n",
              "        [0.4085331 , 0.8899392 , 0.19325793, 0.59874177, 0.7723112 ],\n",
              "        ...,\n",
              "        [0.6993296 , 0.6746143 , 0.51353157, 0.4151665 , 0.7167101 ],\n",
              "        [0.3549732 , 0.40816212, 0.42205584, 0.55399   , 0.5629829 ],\n",
              "        [0.15760994, 0.80723894, 0.3196032 , 0.92848015, 0.5602329 ]],\n",
              "       dtype=float32)>)"
            ]
          },
          "metadata": {},
          "execution_count": 6
        }
      ]
    },
    {
      "cell_type": "code",
      "source": [
        "# Matrix multiplying tensors B1 and B2_transpose\n",
        "tf.matmul(B1, B2_transpose)"
      ],
      "metadata": {
        "colab": {
          "base_uri": "https://localhost:8080/"
        },
        "id": "AyNquRUwOUnx",
        "outputId": "20193f26-c02c-4dfa-b991-acea070451ee"
      },
      "execution_count": 7,
      "outputs": [
        {
          "output_type": "execute_result",
          "data": {
            "text/plain": [
              "<tf.Tensor: shape=(5, 5), dtype=float32, numpy=\n",
              "array([[70.866776, 72.238686, 73.00015 , 74.3029  , 74.33906 ],\n",
              "       [72.69711 , 70.90695 , 73.91422 , 72.84128 , 74.97523 ],\n",
              "       [77.04567 , 78.9836  , 77.01749 , 80.76424 , 80.3436  ],\n",
              "       [78.79129 , 79.310524, 81.438934, 77.94879 , 80.564896],\n",
              "       [75.12534 , 76.56512 , 75.78966 , 77.09797 , 78.97676 ]],\n",
              "      dtype=float32)>"
            ]
          },
          "metadata": {},
          "execution_count": 7
        }
      ]
    },
    {
      "cell_type": "code",
      "source": [
        "# Or Matrix multiplying tensors B1_transpose and B2\n",
        "tf.matmul(B1_transpose, B2)"
      ],
      "metadata": {
        "colab": {
          "base_uri": "https://localhost:8080/"
        },
        "id": "YPoZo8F5OgfP",
        "outputId": "5c6f794e-8caa-4570-f690-da3849bef26a"
      },
      "execution_count": 8,
      "outputs": [
        {
          "output_type": "execute_result",
          "data": {
            "text/plain": [
              "<tf.Tensor: shape=(300, 300), dtype=float32, numpy=\n",
              "array([[0.38571024, 0.65536624, 0.91408753, ..., 0.7831779 , 0.6127228 ,\n",
              "        0.97473377],\n",
              "       [0.9455381 , 1.193476  , 1.01922   , ..., 1.1257908 , 0.8860946 ,\n",
              "        1.0031284 ],\n",
              "       [1.7336216 , 2.0293672 , 1.5335119 , ..., 1.7999529 , 1.509616  ,\n",
              "        1.6749575 ],\n",
              "       ...,\n",
              "       [1.1232262 , 1.4883915 , 1.8684766 , ..., 1.6059719 , 1.3690066 ,\n",
              "        1.9958318 ],\n",
              "       [1.192557  , 1.3989962 , 1.3034364 , ..., 1.2494997 , 1.1350461 ,\n",
              "        1.4248142 ],\n",
              "       [0.81336206, 1.0329034 , 0.9732849 , ..., 1.1132246 , 0.8093386 ,\n",
              "        0.9360921 ]], dtype=float32)>"
            ]
          },
          "metadata": {},
          "execution_count": 8
        }
      ]
    },
    {
      "cell_type": "markdown",
      "source": [
        "### 5. Multiply the two tensors you created in 3 using dot product."
      ],
      "metadata": {
        "id": "7ywzfV6ROjBG"
      }
    },
    {
      "cell_type": "code",
      "source": [
        "# Multiplying tensors B1 and B2_transpose using dot product\n",
        "tf.tensordot(B1, B2_transpose, axes = 1)"
      ],
      "metadata": {
        "colab": {
          "base_uri": "https://localhost:8080/"
        },
        "id": "Pjp3smjPOtJ2",
        "outputId": "aa6b1746-b7c4-4f27-fbc7-d528abf49b37"
      },
      "execution_count": 9,
      "outputs": [
        {
          "output_type": "execute_result",
          "data": {
            "text/plain": [
              "<tf.Tensor: shape=(5, 5), dtype=float32, numpy=\n",
              "array([[70.866776, 72.238686, 73.00015 , 74.3029  , 74.33906 ],\n",
              "       [72.69711 , 70.90695 , 73.91422 , 72.84128 , 74.97523 ],\n",
              "       [77.04567 , 78.9836  , 77.01749 , 80.76424 , 80.3436  ],\n",
              "       [78.79129 , 79.310524, 81.438934, 77.94879 , 80.564896],\n",
              "       [75.12534 , 76.56512 , 75.78966 , 77.09797 , 78.97676 ]],\n",
              "      dtype=float32)>"
            ]
          },
          "metadata": {},
          "execution_count": 9
        }
      ]
    },
    {
      "cell_type": "code",
      "source": [
        "# Multiplying tensors B1_transpose and B2 using dot product\n",
        "tf.tensordot(B1, B2_transpose, axes = 1)"
      ],
      "metadata": {
        "colab": {
          "base_uri": "https://localhost:8080/"
        },
        "id": "YFbA4LTGOw9y",
        "outputId": "06125c22-e0c9-4540-d083-3ff68cfaf4be"
      },
      "execution_count": 10,
      "outputs": [
        {
          "output_type": "execute_result",
          "data": {
            "text/plain": [
              "<tf.Tensor: shape=(5, 5), dtype=float32, numpy=\n",
              "array([[70.866776, 72.238686, 73.00015 , 74.3029  , 74.33906 ],\n",
              "       [72.69711 , 70.90695 , 73.91422 , 72.84128 , 74.97523 ],\n",
              "       [77.04567 , 78.9836  , 77.01749 , 80.76424 , 80.3436  ],\n",
              "       [78.79129 , 79.310524, 81.438934, 77.94879 , 80.564896],\n",
              "       [75.12534 , 76.56512 , 75.78966 , 77.09797 , 78.97676 ]],\n",
              "      dtype=float32)>"
            ]
          },
          "metadata": {},
          "execution_count": 10
        }
      ]
    },
    {
      "cell_type": "markdown",
      "source": [
        "### Further pratice on dot product"
      ],
      "metadata": {
        "id": "YInXRcVGO8FB"
      }
    },
    {
      "cell_type": "code",
      "source": [
        "# Creating a rank 3 tensor\n",
        "B3 = tf.constant([[[1, 2, 3], [4, 5, 6], [7, 8, 9]],\n",
        "                 [[1, 2, 3], [4, 5, 6], [7, 8, 9]]])\n",
        "\n",
        "B4 = tf.constant([[[7, 8, 9], [1, 2, 3], [4, 5, 6]],\n",
        "                 [[7, 8, 9], [1, 2, 3], [4, 5, 6]]])\n",
        "B3, B4"
      ],
      "metadata": {
        "colab": {
          "base_uri": "https://localhost:8080/"
        },
        "id": "eUYzj6T6OtlG",
        "outputId": "6384fb13-4cdd-4f22-e6a5-b711ad67f801"
      },
      "execution_count": 11,
      "outputs": [
        {
          "output_type": "execute_result",
          "data": {
            "text/plain": [
              "(<tf.Tensor: shape=(2, 3, 3), dtype=int32, numpy=\n",
              " array([[[1, 2, 3],\n",
              "         [4, 5, 6],\n",
              "         [7, 8, 9]],\n",
              " \n",
              "        [[1, 2, 3],\n",
              "         [4, 5, 6],\n",
              "         [7, 8, 9]]], dtype=int32)>,\n",
              " <tf.Tensor: shape=(2, 3, 3), dtype=int32, numpy=\n",
              " array([[[7, 8, 9],\n",
              "         [1, 2, 3],\n",
              "         [4, 5, 6]],\n",
              " \n",
              "        [[7, 8, 9],\n",
              "         [1, 2, 3],\n",
              "         [4, 5, 6]]], dtype=int32)>)"
            ]
          },
          "metadata": {},
          "execution_count": 11
        }
      ]
    },
    {
      "cell_type": "code",
      "source": [
        "# Multiplying the rank 3 tensors created earlier using dot product\n",
        "tf.tensordot(B3, B4, axes = 3)"
      ],
      "metadata": {
        "colab": {
          "base_uri": "https://localhost:8080/"
        },
        "id": "phAxa-7mPD_Y",
        "outputId": "35d712a3-eb3d-4e7f-df4b-d63ff9250430"
      },
      "execution_count": 12,
      "outputs": [
        {
          "output_type": "execute_result",
          "data": {
            "text/plain": [
              "<tf.Tensor: shape=(), dtype=int32, numpy=408>"
            ]
          },
          "metadata": {},
          "execution_count": 12
        }
      ]
    },
    {
      "cell_type": "markdown",
      "source": [
        "### 6. Create a tensor with random values between 0 and 1 with shape [224, 224, 3]."
      ],
      "metadata": {
        "id": "9wFKSfFNPHh8"
      }
    },
    {
      "cell_type": "code",
      "source": [
        "# Set seed\n",
        "tf.random.set_seed(2)\n",
        "# Setting the shape of the tensor\n",
        "C1 = tf.random.uniform(shape=[224, 224, 3], minval= 0, maxval= 1)\n",
        "C1"
      ],
      "metadata": {
        "colab": {
          "base_uri": "https://localhost:8080/"
        },
        "id": "ZjnzWpS5PBYj",
        "outputId": "a42248f0-ee7b-4728-cb6d-bb599efc684b"
      },
      "execution_count": 13,
      "outputs": [
        {
          "output_type": "execute_result",
          "data": {
            "text/plain": [
              "<tf.Tensor: shape=(224, 224, 3), dtype=float32, numpy=\n",
              "array([[[0.14690244, 0.46425676, 0.22489977],\n",
              "        [0.35288846, 0.9857408 , 0.99910235],\n",
              "        [0.5648881 , 0.16375077, 0.9890269 ],\n",
              "        ...,\n",
              "        [0.03802752, 0.14310706, 0.84929407],\n",
              "        [0.85379016, 0.13300359, 0.83217883],\n",
              "        [0.05494165, 0.8953632 , 0.21623874]],\n",
              "\n",
              "       [[0.8642839 , 0.89559436, 0.47133732],\n",
              "        [0.6835743 , 0.6609303 , 0.2674172 ],\n",
              "        [0.21034217, 0.8745489 , 0.9309293 ],\n",
              "        ...,\n",
              "        [0.24778223, 0.59047747, 0.3125658 ],\n",
              "        [0.796983  , 0.8057469 , 0.9332074 ],\n",
              "        [0.73379886, 0.5882416 , 0.41613305]],\n",
              "\n",
              "       [[0.9621011 , 0.7402241 , 0.14632273],\n",
              "        [0.04302502, 0.10561955, 0.80846226],\n",
              "        [0.27705956, 0.36593628, 0.7974299 ],\n",
              "        ...,\n",
              "        [0.22384119, 0.39379752, 0.17685866],\n",
              "        [0.36734855, 0.868816  , 0.5893227 ],\n",
              "        [0.6404797 , 0.32257414, 0.5572417 ]],\n",
              "\n",
              "       ...,\n",
              "\n",
              "       [[0.5918008 , 0.4555453 , 0.0715667 ],\n",
              "        [0.74460626, 0.6500335 , 0.09422719],\n",
              "        [0.01735902, 0.44956493, 0.07401443],\n",
              "        ...,\n",
              "        [0.35746348, 0.645898  , 0.22404838],\n",
              "        [0.6693244 , 0.5637424 , 0.93108606],\n",
              "        [0.7920321 , 0.58828545, 0.16300297]],\n",
              "\n",
              "       [[0.9215312 , 0.47450817, 0.14903831],\n",
              "        [0.7662686 , 0.6556269 , 0.2239716 ],\n",
              "        [0.18382418, 0.7070763 , 0.9985843 ],\n",
              "        ...,\n",
              "        [0.14387178, 0.8375937 , 0.80879796],\n",
              "        [0.13911402, 0.27928638, 0.35148907],\n",
              "        [0.21738207, 0.30769682, 0.41803873]],\n",
              "\n",
              "       [[0.52414703, 0.46515524, 0.46230233],\n",
              "        [0.39217103, 0.07241166, 0.16973782],\n",
              "        [0.79651046, 0.8583498 , 0.37951005],\n",
              "        ...,\n",
              "        [0.9079262 , 0.3956306 , 0.9431468 ],\n",
              "        [0.23026776, 0.3757733 , 0.97991145],\n",
              "        [0.3563019 , 0.2918036 , 0.4169129 ]]], dtype=float32)>"
            ]
          },
          "metadata": {},
          "execution_count": 13
        }
      ]
    },
    {
      "cell_type": "markdown",
      "source": [
        "### 7. Find the min and max values of the tensor you created in 6."
      ],
      "metadata": {
        "id": "NYL_EqMiPWyq"
      }
    },
    {
      "cell_type": "code",
      "source": [
        "# Finding minimum and maximum values of the tensor\n",
        "print(f\"The Minimum value is: {tf.reduce_min(C1)}\")\n",
        "print(f\"The Maximum value is: {tf.reduce_max(C1)}\")"
      ],
      "metadata": {
        "colab": {
          "base_uri": "https://localhost:8080/"
        },
        "id": "4AVgQ7_JPQty",
        "outputId": "6a157620-a64d-4407-aaf4-4e0edbb8dd37"
      },
      "execution_count": 14,
      "outputs": [
        {
          "output_type": "stream",
          "name": "stdout",
          "text": [
            "The Minimum value is: 8.344650268554688e-07\n",
            "The Maximum value is: 0.9999978542327881\n"
          ]
        }
      ]
    },
    {
      "cell_type": "markdown",
      "source": [
        "### 8. Create a tensor with random values of shape [1, 224, 224, 3] then squeeze it to change the shape to [224, 224, 3]."
      ],
      "metadata": {
        "id": "Bx-VTloRPgnl"
      }
    },
    {
      "cell_type": "code",
      "source": [
        "# Set seed\n",
        "tf.random.set_seed(3)\n",
        "# Creating a tensor with random values of shape [1, 224, 224, 3]\n",
        "D1 = tf.random.uniform(shape=([1, 224, 224, 3]))\n",
        "D1"
      ],
      "metadata": {
        "colab": {
          "base_uri": "https://localhost:8080/"
        },
        "id": "X5NPPc6WP2Tf",
        "outputId": "88ee83a2-647b-45a1-ef5f-b96980af031e"
      },
      "execution_count": 15,
      "outputs": [
        {
          "output_type": "execute_result",
          "data": {
            "text/plain": [
              "<tf.Tensor: shape=(1, 224, 224, 3), dtype=float32, numpy=\n",
              "array([[[[0.13366318, 0.5678531 , 0.4963317 ],\n",
              "         [0.01686525, 0.50454175, 0.74873126],\n",
              "         [0.13033688, 0.33561492, 0.6519277 ],\n",
              "         ...,\n",
              "         [0.09551287, 0.7745788 , 0.94565904],\n",
              "         [0.4585389 , 0.24478483, 0.69737494],\n",
              "         [0.13486624, 0.49011993, 0.3190508 ]],\n",
              "\n",
              "        [[0.9132737 , 0.7370925 , 0.82477975],\n",
              "         [0.7902572 , 0.8107809 , 0.61262596],\n",
              "         [0.54857635, 0.7577503 , 0.6478059 ],\n",
              "         ...,\n",
              "         [0.22832298, 0.42732084, 0.3243487 ],\n",
              "         [0.1258465 , 0.9693099 , 0.72472024],\n",
              "         [0.17262292, 0.5402758 , 0.01245522]],\n",
              "\n",
              "        [[0.18029809, 0.6981578 , 0.36399138],\n",
              "         [0.16166258, 0.56943595, 0.22409868],\n",
              "         [0.37093806, 0.2099936 , 0.91768014],\n",
              "         ...,\n",
              "         [0.04689181, 0.8925816 , 0.5845498 ],\n",
              "         [0.19480121, 0.04620397, 0.83770967],\n",
              "         [0.12744379, 0.22989404, 0.27232206]],\n",
              "\n",
              "        ...,\n",
              "\n",
              "        [[0.6833439 , 0.15678465, 0.74756753],\n",
              "         [0.59827864, 0.02550662, 0.01586258],\n",
              "         [0.24936366, 0.8825631 , 0.21493506],\n",
              "         ...,\n",
              "         [0.62597716, 0.6232548 , 0.07786119],\n",
              "         [0.6251749 , 0.38168848, 0.95553124],\n",
              "         [0.32739675, 0.8422842 , 0.77438474]],\n",
              "\n",
              "        [[0.07002521, 0.53733444, 0.34857738],\n",
              "         [0.15977144, 0.5077512 , 0.11492431],\n",
              "         [0.98385954, 0.9859358 , 0.41574895],\n",
              "         ...,\n",
              "         [0.451437  , 0.17574322, 0.52742827],\n",
              "         [0.09897029, 0.7920457 , 0.05859137],\n",
              "         [0.9361626 , 0.9597832 , 0.283952  ]],\n",
              "\n",
              "        [[0.38298893, 0.8308017 , 0.9382421 ],\n",
              "         [0.6150608 , 0.37506866, 0.14734352],\n",
              "         [0.06230235, 0.57819664, 0.37227583],\n",
              "         ...,\n",
              "         [0.9480977 , 0.30633497, 0.30812204],\n",
              "         [0.0899601 , 0.13499498, 0.40026426],\n",
              "         [0.2956791 , 0.9394791 , 0.79487133]]]], dtype=float32)>"
            ]
          },
          "metadata": {},
          "execution_count": 15
        }
      ]
    },
    {
      "cell_type": "code",
      "source": [
        "# Squeezing it to change the shape to [224, 224, 3].\n",
        "D1 = tf.squeeze(D1)\n",
        "D1"
      ],
      "metadata": {
        "colab": {
          "base_uri": "https://localhost:8080/"
        },
        "id": "T-VSPQZ5P4hs",
        "outputId": "fefc92ef-bb2d-485d-cb7a-31c061128be7"
      },
      "execution_count": 16,
      "outputs": [
        {
          "output_type": "execute_result",
          "data": {
            "text/plain": [
              "<tf.Tensor: shape=(224, 224, 3), dtype=float32, numpy=\n",
              "array([[[0.13366318, 0.5678531 , 0.4963317 ],\n",
              "        [0.01686525, 0.50454175, 0.74873126],\n",
              "        [0.13033688, 0.33561492, 0.6519277 ],\n",
              "        ...,\n",
              "        [0.09551287, 0.7745788 , 0.94565904],\n",
              "        [0.4585389 , 0.24478483, 0.69737494],\n",
              "        [0.13486624, 0.49011993, 0.3190508 ]],\n",
              "\n",
              "       [[0.9132737 , 0.7370925 , 0.82477975],\n",
              "        [0.7902572 , 0.8107809 , 0.61262596],\n",
              "        [0.54857635, 0.7577503 , 0.6478059 ],\n",
              "        ...,\n",
              "        [0.22832298, 0.42732084, 0.3243487 ],\n",
              "        [0.1258465 , 0.9693099 , 0.72472024],\n",
              "        [0.17262292, 0.5402758 , 0.01245522]],\n",
              "\n",
              "       [[0.18029809, 0.6981578 , 0.36399138],\n",
              "        [0.16166258, 0.56943595, 0.22409868],\n",
              "        [0.37093806, 0.2099936 , 0.91768014],\n",
              "        ...,\n",
              "        [0.04689181, 0.8925816 , 0.5845498 ],\n",
              "        [0.19480121, 0.04620397, 0.83770967],\n",
              "        [0.12744379, 0.22989404, 0.27232206]],\n",
              "\n",
              "       ...,\n",
              "\n",
              "       [[0.6833439 , 0.15678465, 0.74756753],\n",
              "        [0.59827864, 0.02550662, 0.01586258],\n",
              "        [0.24936366, 0.8825631 , 0.21493506],\n",
              "        ...,\n",
              "        [0.62597716, 0.6232548 , 0.07786119],\n",
              "        [0.6251749 , 0.38168848, 0.95553124],\n",
              "        [0.32739675, 0.8422842 , 0.77438474]],\n",
              "\n",
              "       [[0.07002521, 0.53733444, 0.34857738],\n",
              "        [0.15977144, 0.5077512 , 0.11492431],\n",
              "        [0.98385954, 0.9859358 , 0.41574895],\n",
              "        ...,\n",
              "        [0.451437  , 0.17574322, 0.52742827],\n",
              "        [0.09897029, 0.7920457 , 0.05859137],\n",
              "        [0.9361626 , 0.9597832 , 0.283952  ]],\n",
              "\n",
              "       [[0.38298893, 0.8308017 , 0.9382421 ],\n",
              "        [0.6150608 , 0.37506866, 0.14734352],\n",
              "        [0.06230235, 0.57819664, 0.37227583],\n",
              "        ...,\n",
              "        [0.9480977 , 0.30633497, 0.30812204],\n",
              "        [0.0899601 , 0.13499498, 0.40026426],\n",
              "        [0.2956791 , 0.9394791 , 0.79487133]]], dtype=float32)>"
            ]
          },
          "metadata": {},
          "execution_count": 16
        }
      ]
    },
    {
      "cell_type": "markdown",
      "source": [
        "### 9. Create a tensor with shape [10] using your own choice of values, then find the index which has the maximum value."
      ],
      "metadata": {
        "id": "yv5Xil-eP8M3"
      }
    },
    {
      "cell_type": "code",
      "source": [
        "# Creating a tensor with shape [10]\n",
        "E1 = tf.constant(np.random.randint(1, 10, 10))\n",
        "E1"
      ],
      "metadata": {
        "colab": {
          "base_uri": "https://localhost:8080/"
        },
        "id": "zaVSz0xGQCBh",
        "outputId": "be403187-ffb1-4771-8a62-98e158fef49b"
      },
      "execution_count": 17,
      "outputs": [
        {
          "output_type": "execute_result",
          "data": {
            "text/plain": [
              "<tf.Tensor: shape=(10,), dtype=int64, numpy=array([6, 2, 2, 3, 1, 4, 4, 6, 8, 3])>"
            ]
          },
          "metadata": {},
          "execution_count": 17
        }
      ]
    },
    {
      "cell_type": "code",
      "source": [
        "# Finding the index with the maximum value \n",
        "print(f'The indices where the value is maximum: {tf.argmax(E1)}')\n",
        "print(f'The maximum value is: {E1[tf.argmax(E1)]}')"
      ],
      "metadata": {
        "colab": {
          "base_uri": "https://localhost:8080/"
        },
        "id": "aGVBAoBbQGpN",
        "outputId": "289c3a60-7527-4d1c-b36f-8a2b3519bd9e"
      },
      "execution_count": 18,
      "outputs": [
        {
          "output_type": "stream",
          "name": "stdout",
          "text": [
            "The indices where the value is maximum: 8\n",
            "The maximum value is: 8\n"
          ]
        }
      ]
    },
    {
      "cell_type": "markdown",
      "source": [
        "### 10. One-hot encode the tensor you created in 9."
      ],
      "metadata": {
        "id": "qzJOxKoCQZR4"
      }
    },
    {
      "cell_type": "code",
      "source": [
        "# One-hot encoding the tensor\n",
        "tf.one_hot(E1, depth= 10, on_value= \"YES\", off_value= \"NO\")"
      ],
      "metadata": {
        "colab": {
          "base_uri": "https://localhost:8080/"
        },
        "id": "XYjM_S8AQd77",
        "outputId": "b4402c36-b7b3-4a88-91e5-cbef2d84c952"
      },
      "execution_count": 19,
      "outputs": [
        {
          "output_type": "execute_result",
          "data": {
            "text/plain": [
              "<tf.Tensor: shape=(10, 10), dtype=string, numpy=\n",
              "array([[b'NO', b'NO', b'NO', b'NO', b'NO', b'NO', b'YES', b'NO', b'NO',\n",
              "        b'NO'],\n",
              "       [b'NO', b'NO', b'YES', b'NO', b'NO', b'NO', b'NO', b'NO', b'NO',\n",
              "        b'NO'],\n",
              "       [b'NO', b'NO', b'YES', b'NO', b'NO', b'NO', b'NO', b'NO', b'NO',\n",
              "        b'NO'],\n",
              "       [b'NO', b'NO', b'NO', b'YES', b'NO', b'NO', b'NO', b'NO', b'NO',\n",
              "        b'NO'],\n",
              "       [b'NO', b'YES', b'NO', b'NO', b'NO', b'NO', b'NO', b'NO', b'NO',\n",
              "        b'NO'],\n",
              "       [b'NO', b'NO', b'NO', b'NO', b'YES', b'NO', b'NO', b'NO', b'NO',\n",
              "        b'NO'],\n",
              "       [b'NO', b'NO', b'NO', b'NO', b'YES', b'NO', b'NO', b'NO', b'NO',\n",
              "        b'NO'],\n",
              "       [b'NO', b'NO', b'NO', b'NO', b'NO', b'NO', b'YES', b'NO', b'NO',\n",
              "        b'NO'],\n",
              "       [b'NO', b'NO', b'NO', b'NO', b'NO', b'NO', b'NO', b'NO', b'YES',\n",
              "        b'NO'],\n",
              "       [b'NO', b'NO', b'NO', b'YES', b'NO', b'NO', b'NO', b'NO', b'NO',\n",
              "        b'NO']], dtype=object)>"
            ]
          },
          "metadata": {},
          "execution_count": 19
        }
      ]
    }
  ]
}