{
  "nbformat": 4,
  "nbformat_minor": 0,
  "metadata": {
    "colab": {
      "name": "03_Exercise.ipynb",
      "provenance": [],
      "collapsed_sections": [],
      "mount_file_id": "1RYwGjBDrz137QfYpfNlGO7Ycrh5K-nAN",
      "authorship_tag": "ABX9TyPRDZZw7ZHynVsOkIXRRHAr",
      "include_colab_link": true
    },
    "kernelspec": {
      "name": "python3",
      "display_name": "Python 3"
    },
    "language_info": {
      "name": "python"
    },
    "accelerator": "GPU",
    "gpuClass": "standard"
  },
  "cells": [
    {
      "cell_type": "markdown",
      "metadata": {
        "id": "view-in-github",
        "colab_type": "text"
      },
      "source": [
        "<a href=\"https://colab.research.google.com/github/olusipedaniel/zero-to-mastery-exercises/blob/main/03_Exercise.ipynb\" target=\"_parent\"><img src=\"https://colab.research.google.com/assets/colab-badge.svg\" alt=\"Open In Colab\"/></a>"
      ]
    },
    {
      "cell_type": "markdown",
      "source": [
        "1. Spend 20-minutes reading and interacting with the CNN explainer website.\n",
        "  * What are the key terms? e.g. explain convolution in your own words, pooling in your own words\n",
        "\n",
        "2. Play around with the \"understanding hyperparameters\" section in the CNN explainer website for 10-minutes.\n",
        "    * What is the kernel size?\n",
        "    * What is the stride?\n",
        "    * How could you adjust each of these in TensorFlow code?\n",
        "\n",
        "3. Take 10 photos of two different things and build your own CNN image classifier using the techniques we've built here.\n",
        "\n",
        "4. Find an ideal learning rate for a simple convolutional neural network model on your the 10 class dataset."
      ],
      "metadata": {
        "id": "bXxDpIRKDyy0"
      }
    },
    {
      "cell_type": "code",
      "source": [
        "# Importing tensorflow\n",
        "import tensorflow as tf\n",
        "tf.__version__"
      ],
      "metadata": {
        "colab": {
          "base_uri": "https://localhost:8080/",
          "height": 36
        },
        "id": "4mJvC4yHrKGR",
        "outputId": "13a47cc7-c244-41b4-8813-d0cf1d5fb2c5"
      },
      "execution_count": 1,
      "outputs": [
        {
          "output_type": "execute_result",
          "data": {
            "text/plain": [
              "'2.8.2'"
            ],
            "application/vnd.google.colaboratory.intrinsic+json": {
              "type": "string"
            }
          },
          "metadata": {},
          "execution_count": 1
        }
      ]
    },
    {
      "cell_type": "markdown",
      "source": [
        "### 3. Take 10 photos of two different things and build your own CNN image classifier using the techniques we've built here."
      ],
      "metadata": {
        "id": "-6Ufh-ndMN83"
      }
    },
    {
      "cell_type": "markdown",
      "source": [
        "I have uploaded an image classifier dataset in my drive which contains 10 images of cars and 10 images of motorbikes.\n",
        "\n",
        "The goal is to train a classifier that will classify between a cars and motorbikes."
      ],
      "metadata": {
        "id": "vCmHIk6QqqY4"
      }
    },
    {
      "cell_type": "code",
      "source": [
        "# Mounting drive to colab\n",
        "from google.colab import drive \n",
        "drive.mount('/content/drive')"
      ],
      "metadata": {
        "colab": {
          "base_uri": "https://localhost:8080/"
        },
        "id": "hU0rlCbKFkeD",
        "outputId": "1e840c9c-4d2e-4a3e-88f4-41ea477b2d8a"
      },
      "execution_count": 2,
      "outputs": [
        {
          "output_type": "stream",
          "name": "stdout",
          "text": [
            "Drive already mounted at /content/drive; to attempt to forcibly remount, call drive.mount(\"/content/drive\", force_remount=True).\n"
          ]
        }
      ]
    },
    {
      "cell_type": "code",
      "source": [
        "# Setting up path to dataset\n",
        "train_dir=\"/content/drive/MyDrive/cars_and_motorbikes\""
      ],
      "metadata": {
        "id": "UFS5UEALrENy"
      },
      "execution_count": 3,
      "outputs": []
    },
    {
      "cell_type": "code",
      "source": [
        "import os\n",
        "\n",
        "# Checking the number of images in each directory\n",
        "for dirpath,dirnames,filenames in os.walk(\"/content/drive/MyDrive/cars_and_motorbikes\"):\n",
        "  print(f\"There are {len(dirnames)} directories and {len(filenames)} images in {dirpath}.\")"
      ],
      "metadata": {
        "colab": {
          "base_uri": "https://localhost:8080/"
        },
        "id": "0LBaFp87ssIL",
        "outputId": "ca6a59da-544c-4f50-f0fa-c16a353a88d0"
      },
      "execution_count": 4,
      "outputs": [
        {
          "output_type": "stream",
          "name": "stdout",
          "text": [
            "There are 2 directories and 0 images in /content/drive/MyDrive/cars_and_motorbikes.\n",
            "There are 0 directories and 10 images in /content/drive/MyDrive/cars_and_motorbikes/motorbikes.\n",
            "There are 0 directories and 10 images in /content/drive/MyDrive/cars_and_motorbikes/cars.\n"
          ]
        }
      ]
    },
    {
      "cell_type": "code",
      "source": [
        "# Importing ImageDataGenerator\n",
        "from tensorflow.keras.preprocessing.image import ImageDataGenerator\n",
        "\n",
        "# Using ImageDataGenerator to rescale images and split dataset into training and validation split \n",
        "train_datagen=ImageDataGenerator(rescale = 1/255., \n",
        "                                 validation_split = 0.2)\n",
        "\n",
        "# Loading image file from directories \n",
        "train_data=train_datagen.flow_from_directory(train_dir, \n",
        "                                             batch_size=2, \n",
        "                                             target_size=(224,224), \n",
        "                                             class_mode=\"binary\", \n",
        "                                             seed=42, \n",
        "                                             subset=\"training\")\n",
        "\n",
        "valid_data=train_datagen.flow_from_directory(train_dir, \n",
        "                                             batch_size=2, \n",
        "                                             target_size=(224,224), \n",
        "                                             class_mode=\"binary\", \n",
        "                                             seed=42, \n",
        "                                             subset=\"validation\")"
      ],
      "metadata": {
        "colab": {
          "base_uri": "https://localhost:8080/"
        },
        "id": "xV9QkX1br148",
        "outputId": "0dde7c00-e298-47e9-d4c5-96b157c6563f"
      },
      "execution_count": 5,
      "outputs": [
        {
          "output_type": "stream",
          "name": "stdout",
          "text": [
            "Found 16 images belonging to 2 classes.\n",
            "Found 4 images belonging to 2 classes.\n"
          ]
        }
      ]
    },
    {
      "cell_type": "code",
      "source": [
        "# Importing numpy and pathlib\n",
        "import numpy as np\n",
        "import pathlib\n",
        "\n",
        "# Getting the class names programmatically\n",
        "data_dir=pathlib.Path(\"/content/drive/MyDrive/cars_and_motorbikes\")\n",
        "class_names=np.array(sorted([item.name for item in data_dir.glob(\"*\")]))\n",
        "class_names"
      ],
      "metadata": {
        "colab": {
          "base_uri": "https://localhost:8080/"
        },
        "id": "9Mpj_9Mk7F8f",
        "outputId": "737596dd-1d73-47a2-a5dd-ba979b580448"
      },
      "execution_count": 6,
      "outputs": [
        {
          "output_type": "execute_result",
          "data": {
            "text/plain": [
              "array(['cars', 'motorbikes'], dtype='<U10')"
            ]
          },
          "metadata": {},
          "execution_count": 6
        }
      ]
    },
    {
      "cell_type": "code",
      "source": [
        "# Importting matplotlib\n",
        "import matplotlib.pyplot as plt\n",
        "import matplotlib.image as mpimg\n",
        "import random\n",
        "\n",
        "# Creating a function to visualize random images from training images\n",
        "def plot_random_images(target_dir):\n",
        "  for i in range(2):\n",
        "    plt.subplot(1,2,i+1)\n",
        "    # Setting up target directory\n",
        "    target_class=random.choice(class_names)\n",
        "    target_folder=target_dir+\"/\"+target_class\n",
        "\n",
        "    # Getting random image path\n",
        "    random_image=random.sample(os.listdir(target_folder),1)\n",
        "    print(random_image)\n",
        "    target_image=target_folder+\"/\"+random_image[0]\n",
        "\n",
        "    # Reading and plotting the image using matplotlib\n",
        "    img=mpimg.imread(target_image)\n",
        "    plt.imshow(img)\n",
        "    plt.title(target_class)\n",
        "    plt.axis(\"off\")"
      ],
      "metadata": {
        "id": "hZ3rtGAX6MAE"
      },
      "execution_count": 7,
      "outputs": []
    },
    {
      "cell_type": "code",
      "source": [
        "# Plotting random images\n",
        "plot_random_images(target_dir=\"/content/drive/MyDrive/cars_and_motorbikes\")"
      ],
      "metadata": {
        "colab": {
          "base_uri": "https://localhost:8080/",
          "height": 188
        },
        "id": "R00FniCm-dIg",
        "outputId": "4f8bd2f2-5ac0-45dc-e845-511e60182950"
      },
      "execution_count": 8,
      "outputs": [
        {
          "output_type": "stream",
          "name": "stdout",
          "text": [
            "['015.jpg']\n",
            "['004.jpg']\n"
          ]
        },
        {
          "output_type": "display_data",
          "data": {
            "text/plain": [
              "<Figure size 432x288 with 2 Axes>"
            ],
            "image/png": "[encoded data removed]"
          },
          "metadata": {
            "needs_background": "light"
          }
        }
      ]
    },
    {
      "cell_type": "code",
      "source": [
        "from tensorflow.keras import Sequential\n",
        "from tensorflow.keras.layers import Conv2D,MaxPool2D,Dense,Flatten\n",
        "from tensorflow.keras.losses import BinaryCrossentropy\n",
        "from tensorflow.keras.optimizers import Adam\n",
        "\n",
        "# Setting random seed\n",
        "tf.random.set_seed(42)\n",
        "\n",
        "# Creating model\n",
        "model_0=Sequential([\n",
        "  Conv2D(filters=2,\n",
        "         kernel_size=1,\n",
        "         activation=\"relu\",\n",
        "         input_shape=(224,224,3)),\n",
        "  MaxPool2D(pool_size=1,padding=\"valid\"),\n",
        "  Conv2D(2,1,activation=\"relu\"),\n",
        "  MaxPool2D(pool_size=1,padding=\"valid\"),\n",
        "  Flatten(),\n",
        "  Dense(1,activation=\"sigmoid\")\n",
        "])\n",
        "\n",
        "# Compiling model\n",
        "model_0.compile(loss=BinaryCrossentropy(),\n",
        "                optimizer=Adam(),\n",
        "                metrics=\"accuracy\")\n",
        "\n",
        "# Fitting model\n",
        "model_0.fit(train_data,\n",
        "            epochs=10,\n",
        "            validation_data=valid_data)"
      ],
      "metadata": {
        "colab": {
          "base_uri": "https://localhost:8080/"
        },
        "id": "3V006qM4_ZN2",
        "outputId": "8ba7b72e-f633-49fa-935e-43776cab052c"
      },
      "execution_count": 9,
      "outputs": [
        {
          "output_type": "stream",
          "name": "stdout",
          "text": [
            "Epoch 1/10\n",
            "8/8 [==============================] - 16s 556ms/step - loss: 3.1632 - accuracy: 0.3750 - val_loss: 0.7022 - val_accuracy: 0.5000\n",
            "Epoch 2/10\n",
            "8/8 [==============================] - 0s 44ms/step - loss: 1.7990 - accuracy: 0.5625 - val_loss: 1.0769 - val_accuracy: 0.5000\n",
            "Epoch 3/10\n",
            "8/8 [==============================] - 0s 35ms/step - loss: 0.5644 - accuracy: 0.7500 - val_loss: 1.2019 - val_accuracy: 0.5000\n",
            "Epoch 4/10\n",
            "8/8 [==============================] - 0s 44ms/step - loss: 0.4949 - accuracy: 0.6250 - val_loss: 0.7113 - val_accuracy: 0.5000\n",
            "Epoch 5/10\n",
            "8/8 [==============================] - 0s 44ms/step - loss: 0.2821 - accuracy: 0.9375 - val_loss: 0.6219 - val_accuracy: 0.7500\n",
            "Epoch 6/10\n",
            "8/8 [==============================] - 0s 44ms/step - loss: 0.2385 - accuracy: 1.0000 - val_loss: 0.6523 - val_accuracy: 0.5000\n",
            "Epoch 7/10\n",
            "8/8 [==============================] - 0s 42ms/step - loss: 0.1831 - accuracy: 0.9375 - val_loss: 0.7922 - val_accuracy: 0.5000\n",
            "Epoch 8/10\n",
            "8/8 [==============================] - 0s 44ms/step - loss: 0.1594 - accuracy: 0.9375 - val_loss: 0.7365 - val_accuracy: 0.5000\n",
            "Epoch 9/10\n",
            "8/8 [==============================] - 0s 45ms/step - loss: 0.1345 - accuracy: 0.9375 - val_loss: 0.7638 - val_accuracy: 0.5000\n",
            "Epoch 10/10\n",
            "8/8 [==============================] - 0s 44ms/step - loss: 0.1174 - accuracy: 0.9375 - val_loss: 0.7485 - val_accuracy: 0.5000\n"
          ]
        },
        {
          "output_type": "execute_result",
          "data": {
            "text/plain": [
              "<keras.callbacks.History at 0x7f254c793510>"
            ]
          },
          "metadata": {},
          "execution_count": 9
        }
      ]
    },
    {
      "cell_type": "code",
      "source": [
        "# Evaluating model\n",
        "model_0.evaluate(valid_data)"
      ],
      "metadata": {
        "colab": {
          "base_uri": "https://localhost:8080/"
        },
        "id": "GRsBM4MR8nGu",
        "outputId": "27393252-e17a-4c7b-caa1-2db7489ab869"
      },
      "execution_count": 10,
      "outputs": [
        {
          "output_type": "stream",
          "name": "stdout",
          "text": [
            "2/2 [==============================] - 0s 42ms/step - loss: 0.7485 - accuracy: 0.5000\n"
          ]
        },
        {
          "output_type": "execute_result",
          "data": {
            "text/plain": [
              "[0.7484909892082214, 0.5]"
            ]
          },
          "metadata": {},
          "execution_count": 10
        }
      ]
    },
    {
      "cell_type": "markdown",
      "source": [
        "### 4. Find an ideal learning rate for a simple convolutional neural network model on your the 10 class dataset"
      ],
      "metadata": {
        "id": "HcsGnp65A6GT"
      }
    },
    {
      "cell_type": "code",
      "source": [
        "# Importing LearningRateSchudeler\n",
        "from tensorflow.keras.callbacks import LearningRateScheduler\n",
        "\n",
        "# Defining lr_scheduler\n",
        "lr_scheduler=LearningRateScheduler(lambda epoch: 1e-3*10**(epoch/20))"
      ],
      "metadata": {
        "id": "2Rq_WpPMBhrr"
      },
      "execution_count": 11,
      "outputs": []
    },
    {
      "cell_type": "code",
      "source": [
        "# Setting random seed\n",
        "tf.random.set_seed(42)\n",
        "\n",
        "# Creating model\n",
        "lr_model=Sequential([\n",
        "  Conv2D(filters=2,\n",
        "         kernel_size=1,\n",
        "         activation=\"relu\",\n",
        "         input_shape=(224,224,3)),\n",
        "  MaxPool2D(pool_size=1,padding=\"valid\"),\n",
        "  Conv2D(2,1,activation=\"relu\"),\n",
        "  MaxPool2D(pool_size=1,padding=\"valid\"),\n",
        "  Flatten(),\n",
        "  Dense(1,activation=\"sigmoid\")\n",
        "])\n",
        "\n",
        "# Compiling model\n",
        "lr_model.compile(loss=BinaryCrossentropy(),\n",
        "                optimizer=Adam(),\n",
        "                metrics=\"accuracy\")\n",
        "\n",
        "# Fitting model\n",
        "lr_history=lr_model.fit(train_data,\n",
        "                        epochs=10,\n",
        "                        validation_data=valid_data,\n",
        "                        callbacks=[lr_scheduler])"
      ],
      "metadata": {
        "colab": {
          "base_uri": "https://localhost:8080/"
        },
        "id": "WglhNTZLCJ8S",
        "outputId": "6efa0a90-05b0-4e8a-b8f4-01187ef0fad6"
      },
      "execution_count": 12,
      "outputs": [
        {
          "output_type": "stream",
          "name": "stdout",
          "text": [
            "Epoch 1/10\n",
            "8/8 [==============================] - 1s 63ms/step - loss: 1.0794 - accuracy: 0.6250 - val_loss: 1.4404 - val_accuracy: 0.5000 - lr: 0.0010\n",
            "Epoch 2/10\n",
            "8/8 [==============================] - 0s 45ms/step - loss: 1.1565 - accuracy: 0.6250 - val_loss: 1.5595 - val_accuracy: 0.5000 - lr: 0.0011\n",
            "Epoch 3/10\n",
            "8/8 [==============================] - 0s 50ms/step - loss: 0.6240 - accuracy: 0.6875 - val_loss: 0.6236 - val_accuracy: 0.7500 - lr: 0.0013\n",
            "Epoch 4/10\n",
            "8/8 [==============================] - 0s 42ms/step - loss: 0.2707 - accuracy: 0.8125 - val_loss: 0.6102 - val_accuracy: 0.7500 - lr: 0.0014\n",
            "Epoch 5/10\n",
            "8/8 [==============================] - 0s 41ms/step - loss: 0.2185 - accuracy: 1.0000 - val_loss: 0.5816 - val_accuracy: 0.7500 - lr: 0.0016\n",
            "Epoch 6/10\n",
            "8/8 [==============================] - 0s 45ms/step - loss: 0.1335 - accuracy: 0.9375 - val_loss: 0.9149 - val_accuracy: 0.5000 - lr: 0.0018\n",
            "Epoch 7/10\n",
            "8/8 [==============================] - 0s 40ms/step - loss: 0.1221 - accuracy: 0.9375 - val_loss: 0.8214 - val_accuracy: 0.5000 - lr: 0.0020\n",
            "Epoch 8/10\n",
            "8/8 [==============================] - 0s 43ms/step - loss: 0.0780 - accuracy: 0.9375 - val_loss: 0.7510 - val_accuracy: 0.5000 - lr: 0.0022\n",
            "Epoch 9/10\n",
            "8/8 [==============================] - 0s 46ms/step - loss: 0.0665 - accuracy: 0.9375 - val_loss: 0.8361 - val_accuracy: 0.5000 - lr: 0.0025\n",
            "Epoch 10/10\n",
            "8/8 [==============================] - 0s 42ms/step - loss: 0.0566 - accuracy: 1.0000 - val_loss: 0.9267 - val_accuracy: 0.5000 - lr: 0.0028\n"
          ]
        }
      ]
    },
    {
      "cell_type": "code",
      "source": [
        "# Plotting learning rate curve\n",
        "lr=1e-4*(10**(np.arange(10)/20))\n",
        "plt.figure(figsize=(10,10))\n",
        "plt.semilogx(lr,lr_history.history[\"loss\"])\n",
        "plt.title(\"Learning rate vs Loss\")\n",
        "plt.xlabel(\"Learning Rate\")\n",
        "plt.ylabel(\"Loss\")"
      ],
      "metadata": {
        "colab": {
          "base_uri": "https://localhost:8080/",
          "height": 643
        },
        "id": "wmr99fhACaT4",
        "outputId": "8debafd5-2062-4186-fa04-433776f0f3b1"
      },
      "execution_count": 13,
      "outputs": [
        {
          "output_type": "execute_result",
          "data": {
            "text/plain": [
              "Text(0, 0.5, 'Loss')"
            ]
          },
          "metadata": {},
          "execution_count": 13
        },
        {
          "output_type": "display_data",
          "data": {
            "text/plain": [
              "<Figure size 720x720 with 1 Axes>"
            ],
            "image/png": "[encoded data removed]"
          },
          "metadata": {
            "needs_background": "light"
          }
        }
      ]
    },
    {
      "cell_type": "code",
      "source": [
        "# Getting ideal learning rate \n",
        "lr=2*1e-4\n",
        "lr"
      ],
      "metadata": {
        "colab": {
          "base_uri": "https://localhost:8080/"
        },
        "id": "6duHNbualRwK",
        "outputId": "7fbd11fa-4bd2-4b90-c1cc-f85bed1a8d7b"
      },
      "execution_count": 14,
      "outputs": [
        {
          "output_type": "execute_result",
          "data": {
            "text/plain": [
              "0.0002"
            ]
          },
          "metadata": {},
          "execution_count": 14
        }
      ]
    },
    {
      "cell_type": "code",
      "source": [
        "# Setting random seed\n",
        "tf.random.set_seed(42)\n",
        "\n",
        "# Creating model\n",
        "model_1=Sequential([\n",
        "  Conv2D(filters=2,\n",
        "         kernel_size=1,\n",
        "         activation=\"relu\",\n",
        "         input_shape=(224,224,3)),\n",
        "  MaxPool2D(pool_size=1,padding=\"valid\"),\n",
        "  Conv2D(2,1,activation=\"relu\"),\n",
        "  MaxPool2D(pool_size=1,padding=\"valid\"),\n",
        "  Flatten(),\n",
        "  Dense(1,activation=\"sigmoid\")\n",
        "])\n",
        "\n",
        "# Compiling model\n",
        "model_1.compile(loss=BinaryCrossentropy(),\n",
        "                optimizer=Adam(learning_rate=lr),\n",
        "                metrics=\"accuracy\")\n",
        "\n",
        "# Fitting model\n",
        "history_1=model_1.fit(train_data,\n",
        "                      epochs=10,\n",
        "                      validation_data=valid_data)"
      ],
      "metadata": {
        "colab": {
          "base_uri": "https://localhost:8080/"
        },
        "id": "9Bom84fTD2xZ",
        "outputId": "4aa45f53-a80e-424a-e2a5-c2beeb0294d1"
      },
      "execution_count": 15,
      "outputs": [
        {
          "output_type": "stream",
          "name": "stdout",
          "text": [
            "Epoch 1/10\n",
            "8/8 [==============================] - 1s 64ms/step - loss: 0.8323 - accuracy: 0.3125 - val_loss: 0.6906 - val_accuracy: 0.5000\n",
            "Epoch 2/10\n",
            "8/8 [==============================] - 0s 44ms/step - loss: 0.6212 - accuracy: 0.6250 - val_loss: 0.6505 - val_accuracy: 1.0000\n",
            "Epoch 3/10\n",
            "8/8 [==============================] - 0s 37ms/step - loss: 0.5696 - accuracy: 0.7500 - val_loss: 0.6716 - val_accuracy: 0.5000\n",
            "Epoch 4/10\n",
            "8/8 [==============================] - 0s 39ms/step - loss: 0.4764 - accuracy: 0.8125 - val_loss: 0.6547 - val_accuracy: 0.5000\n",
            "Epoch 5/10\n",
            "8/8 [==============================] - 0s 43ms/step - loss: 0.4106 - accuracy: 0.9375 - val_loss: 0.6164 - val_accuracy: 0.7500\n",
            "Epoch 6/10\n",
            "8/8 [==============================] - 0s 43ms/step - loss: 0.3634 - accuracy: 1.0000 - val_loss: 0.6243 - val_accuracy: 0.5000\n",
            "Epoch 7/10\n",
            "8/8 [==============================] - 0s 42ms/step - loss: 0.3683 - accuracy: 0.9375 - val_loss: 0.7480 - val_accuracy: 0.5000\n",
            "Epoch 8/10\n",
            "8/8 [==============================] - 0s 43ms/step - loss: 0.2877 - accuracy: 0.9375 - val_loss: 0.6393 - val_accuracy: 0.5000\n",
            "Epoch 9/10\n",
            "8/8 [==============================] - 0s 43ms/step - loss: 0.2572 - accuracy: 1.0000 - val_loss: 0.6465 - val_accuracy: 0.7500\n",
            "Epoch 10/10\n",
            "8/8 [==============================] - 0s 43ms/step - loss: 0.2292 - accuracy: 1.0000 - val_loss: 0.6720 - val_accuracy: 0.5000\n"
          ]
        }
      ]
    },
    {
      "cell_type": "code",
      "source": [
        "# Evaluating model\n",
        "model_1.evaluate(valid_data)"
      ],
      "metadata": {
        "colab": {
          "base_uri": "https://localhost:8080/"
        },
        "id": "pfr_99P17qD9",
        "outputId": "6433039a-d2a5-45d5-c06e-dddcf41e86f0"
      },
      "execution_count": 16,
      "outputs": [
        {
          "output_type": "stream",
          "name": "stdout",
          "text": [
            "2/2 [==============================] - 0s 47ms/step - loss: 0.6720 - accuracy: 0.5000\n"
          ]
        },
        {
          "output_type": "execute_result",
          "data": {
            "text/plain": [
              "[0.6720202565193176, 0.5]"
            ]
          },
          "metadata": {},
          "execution_count": 16
        }
      ]
    },
    {
      "cell_type": "markdown",
      "source": [
        "#### The model can be improved probably by providing more data for the model to learn or using transfer learning"
      ],
      "metadata": {
        "id": "PHfmONnelf7z"
      }
    }
  ]
}